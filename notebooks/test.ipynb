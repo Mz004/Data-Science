{
 "cells": [
  {
   "cell_type": "code",
   "execution_count": 23,
   "id": "97de2515",
   "metadata": {},
   "outputs": [
    {
     "name": "stdout",
     "output_type": "stream",
     "text": [
      "1 complex complex complex complex\n",
      "{True: 'complex'}\n"
     ]
    }
   ],
   "source": [
    "a = {True: 't', 1: 'one', 1.0: 'float', 1+0j: 'complex'}\n",
    "print(len(a), a[True], a[1], a[1.0], a[1+0j])\n",
    "print(a)\n"
   ]
  }
 ],
 "metadata": {
  "kernelspec": {
   "display_name": "Python (ds)",
   "language": "python",
   "name": "ds"
  },
  "language_info": {
   "codemirror_mode": {
    "name": "ipython",
    "version": 3
   },
   "file_extension": ".py",
   "mimetype": "text/x-python",
   "name": "python",
   "nbconvert_exporter": "python",
   "pygments_lexer": "ipython3",
   "version": "3.11.9"
  }
 },
 "nbformat": 4,
 "nbformat_minor": 5
}
